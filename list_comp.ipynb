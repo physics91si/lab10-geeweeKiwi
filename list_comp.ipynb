{
 "cells": [
  {
   "cell_type": "code",
   "execution_count": 26,
   "metadata": {
    "collapsed": true
   },
   "outputs": [],
   "source": [
    "from string import ascii_lowercase"
   ]
  },
  {
   "cell_type": "code",
   "execution_count": 39,
   "metadata": {},
   "outputs": [
    {
     "data": {
      "text/plain": [
       "['a', 'b', 'c', 'd', 'e', 'f', 'g', 'h', 'i', 'j']"
      ]
     },
     "execution_count": 39,
     "metadata": {},
     "output_type": "execute_result"
    }
   ],
   "source": [
    "a1 = [ascii_lowercase[x] for x in range(0,10)]\n",
    "a1"
   ]
  },
  {
   "cell_type": "code",
   "execution_count": 25,
   "metadata": {},
   "outputs": [
    {
     "data": {
      "text/plain": [
       "['a', 'b', 'c', 'd', 'e', 'g', 'h', 'i', 'j']"
      ]
     },
     "execution_count": 25,
     "metadata": {},
     "output_type": "execute_result"
    }
   ],
   "source": [
    "[ascii_lowercase[x] for x in range(0,10)  if x != 5 ]"
   ]
  },
  {
   "cell_type": "code",
   "execution_count": 34,
   "metadata": {},
   "outputs": [
    {
     "data": {
      "text/plain": [
       "['a',\n",
       " 'aa',\n",
       " 'aaa',\n",
       " 'b',\n",
       " 'bb',\n",
       " 'bbb',\n",
       " 'c',\n",
       " 'cc',\n",
       " 'ccc',\n",
       " 'd',\n",
       " 'dd',\n",
       " 'ddd',\n",
       " 'e',\n",
       " 'ee',\n",
       " 'eee',\n",
       " 'g',\n",
       " 'gg',\n",
       " 'ggg',\n",
       " 'h',\n",
       " 'hh',\n",
       " 'hhh',\n",
       " 'i',\n",
       " 'ii',\n",
       " 'iii',\n",
       " 'j',\n",
       " 'jj',\n",
       " 'jjj']"
      ]
     },
     "execution_count": 34,
     "metadata": {},
     "output_type": "execute_result"
    }
   ],
   "source": [
    "arr = [y*i for y in [ascii_lowercase[x] for x in range(0,10)  if x != 5 ]for i in range(1,4)]\n",
    "arr"
   ]
  },
  {
   "cell_type": "code",
   "execution_count": 37,
   "metadata": {},
   "outputs": [
    {
     "data": {
      "text/plain": [
       "[['a', 'aa', 'aaa'],\n",
       " ['b', 'bb', 'bbb'],\n",
       " ['c', 'cc', 'ccc'],\n",
       " ['d', 'dd', 'ddd'],\n",
       " ['e', 'ee', 'eee'],\n",
       " ['g', 'gg', 'ggg'],\n",
       " ['h', 'hh', 'hhh'],\n",
       " ['i', 'ii', 'iii'],\n",
       " ['j', 'jj', 'jjj']]"
      ]
     },
     "execution_count": 37,
     "metadata": {},
     "output_type": "execute_result"
    }
   ],
   "source": [
    "[arr[x:x+3] for x in range(0, len(arr), 3)]"
   ]
  },
  {
   "cell_type": "code",
   "execution_count": 43,
   "metadata": {},
   "outputs": [
    {
     "data": {
      "text/plain": [
       "['A',\n",
       " 'aa',\n",
       " 'aaa',\n",
       " 'b',\n",
       " 'B',\n",
       " 'bbb',\n",
       " 'c',\n",
       " 'cc',\n",
       " 'C',\n",
       " 'D',\n",
       " 'dd',\n",
       " 'ddd',\n",
       " 'e',\n",
       " 'E',\n",
       " 'eee',\n",
       " 'G',\n",
       " 'gg',\n",
       " 'ggg',\n",
       " 'h',\n",
       " 'H',\n",
       " 'hhh',\n",
       " 'i',\n",
       " 'ii',\n",
       " 'I',\n",
       " 'J',\n",
       " 'jj',\n",
       " 'jjj']"
      ]
     },
     "execution_count": 43,
     "metadata": {},
     "output_type": "execute_result"
    }
   ],
   "source": [
    "arr2 = [arr[i][0].upper() if i % 3 == a1.index(arr[i][0]) % 3 else arr[i] for i in range(0, len(arr))]\n",
    "arr2"
   ]
  },
  {
   "cell_type": "code",
   "execution_count": 44,
   "metadata": {},
   "outputs": [
    {
     "data": {
      "text/plain": [
       "[['A', 'aa', 'aaa'],\n",
       " ['b', 'B', 'bbb'],\n",
       " ['c', 'cc', 'C'],\n",
       " ['D', 'dd', 'ddd'],\n",
       " ['e', 'E', 'eee'],\n",
       " ['G', 'gg', 'ggg'],\n",
       " ['h', 'H', 'hhh'],\n",
       " ['i', 'ii', 'I'],\n",
       " ['J', 'jj', 'jjj']]"
      ]
     },
     "execution_count": 44,
     "metadata": {},
     "output_type": "execute_result"
    }
   ],
   "source": [
    "[arr2[x:x+3] for x in range(0, len(arr2), 3)]"
   ]
  }
 ],
 "metadata": {
  "kernelspec": {
   "display_name": "Python 2",
   "language": "python",
   "name": "python2"
  },
  "language_info": {
   "codemirror_mode": {
    "name": "ipython",
    "version": 2
   },
   "file_extension": ".py",
   "mimetype": "text/x-python",
   "name": "python",
   "nbconvert_exporter": "python",
   "pygments_lexer": "ipython2",
   "version": "2.7.13"
  }
 },
 "nbformat": 4,
 "nbformat_minor": 2
}
